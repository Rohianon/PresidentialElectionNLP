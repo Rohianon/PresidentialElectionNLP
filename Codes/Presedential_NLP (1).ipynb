{
  "nbformat": 4,
  "nbformat_minor": 0,
  "metadata": {
    "kernelspec": {
      "display_name": "Python 3",
      "language": "python",
      "name": "python3"
    },
    "language_info": {
      "codemirror_mode": {
        "name": "ipython",
        "version": 3
      },
      "file_extension": ".py",
      "mimetype": "text/x-python",
      "name": "python",
      "nbconvert_exporter": "python",
      "pygments_lexer": "ipython3",
      "version": "3.7.4"
    },
    "colab": {
      "name": "Presedential NLP.ipynb",
      "provenance": []
    }
  },
  "cells": [
    {
      "cell_type": "markdown",
      "metadata": {
        "id": "7vzMgPUGd-Po"
      },
      "source": [
        "# Imports"
      ]
    },
    {
      "cell_type": "code",
      "metadata": {
        "id": "ZyqqTQeId-Pr"
      },
      "source": [
        "from sklearn.feature_extraction.text import TfidfVectorizer"
      ],
      "execution_count": 1,
      "outputs": []
    },
    {
      "cell_type": "code",
      "metadata": {
        "id": "lSAxn_84d-P5"
      },
      "source": [
        "from sklearn.model_selection import train_test_split"
      ],
      "execution_count": 2,
      "outputs": []
    },
    {
      "cell_type": "code",
      "metadata": {
        "id": "TqSFPYZ3d-QC"
      },
      "source": [
        "import pandas as pd"
      ],
      "execution_count": 3,
      "outputs": []
    },
    {
      "cell_type": "code",
      "metadata": {
        "id": "aHmx5gSTd-QM"
      },
      "source": [
        "import re"
      ],
      "execution_count": 4,
      "outputs": []
    },
    {
      "cell_type": "code",
      "metadata": {
        "id": "VPwmWhtgISIH"
      },
      "source": [
        "import nltk"
      ],
      "execution_count": 5,
      "outputs": []
    },
    {
      "cell_type": "code",
      "metadata": {
        "id": "t4_REN30ITZm"
      },
      "source": [
        "import pickle"
      ],
      "execution_count": 6,
      "outputs": []
    },
    {
      "cell_type": "code",
      "metadata": {
        "id": "LNm9pXR1IXJj"
      },
      "source": [
        "import string"
      ],
      "execution_count": 7,
      "outputs": []
    },
    {
      "cell_type": "code",
      "metadata": {
        "id": "2vYqLKJPd-QZ"
      },
      "source": [
        "import numpy as np"
      ],
      "execution_count": 8,
      "outputs": []
    },
    {
      "cell_type": "code",
      "metadata": {
        "id": "ZC_SR1xxd-Qh"
      },
      "source": [
        "from keras.utils.np_utils import to_categorical"
      ],
      "execution_count": 9,
      "outputs": []
    },
    {
      "cell_type": "code",
      "metadata": {
        "id": "OnAkyXKZd-Qu"
      },
      "source": [
        "from sklearn.metrics import confusion_matrix, accuracy_score, f1_score, accuracy_score, plot_confusion_matrix"
      ],
      "execution_count": 10,
      "outputs": []
    },
    {
      "cell_type": "code",
      "metadata": {
        "id": "TtfMNYZW2mTK"
      },
      "source": [
        "from google.colab import files"
      ],
      "execution_count": 11,
      "outputs": []
    },
    {
      "cell_type": "markdown",
      "metadata": {
        "id": "YP-khXDHd-Q5"
      },
      "source": [
        "# Data Reading"
      ]
    },
    {
      "cell_type": "code",
      "metadata": {
        "id": "tN55mB1V2iRf"
      },
      "source": [
        "#since we're using google colab to run the files, we can import the data after an upload\n",
        "# uploaded = files.upload()"
      ],
      "execution_count": 12,
      "outputs": []
    },
    {
      "cell_type": "code",
      "metadata": {
        "id": "oe79-ziLd-Q7"
      },
      "source": [
        "df = pd.read_csv('us_election_2020_1st_presidential_debate.csv').drop('minute', axis=1)"
      ],
      "execution_count": 13,
      "outputs": []
    },
    {
      "cell_type": "markdown",
      "metadata": {
        "id": "mkca3MB1d-RG"
      },
      "source": [
        "# Test processing & Cleaning"
      ]
    },
    {
      "cell_type": "code",
      "metadata": {
        "id": "QTEBVnYqd-RI"
      },
      "source": [
        "def read_clean(text):\n",
        "    '''\n",
        "    Makes text lowercase, without punctuations, numbers removed and both numbers with letters next to it too.\n",
        "    Input: \n",
        "        text: string type\n",
        "    Output:\n",
        "        text: a transformed string in lowercase, without punctuations etc.\n",
        "    '''\n",
        "    text = text.lower()\n",
        "    text = re.sub('[%s]' % re.escape(string.punctuation),'', text)\n",
        "    text = re.sub('w*\\d\\w', '', text)\n",
        "    text = re.sub(r'[^\\w]', ' ', text)\n",
        "    text = re.sub('\\s+', ' ', text)\n",
        "    return text"
      ],
      "execution_count": 14,
      "outputs": []
    },
    {
      "cell_type": "code",
      "metadata": {
        "id": "Flgy5GnQd-RS",
        "outputId": "f6bd8f0b-ba73-45b9-edad-1e51aef57f3b",
        "colab": {
          "base_uri": "https://localhost:8080/",
          "height": 52
        }
      },
      "source": [
        "df['text'] = df['text'].apply(read_clean)\n",
        "df['speaker'].unique()"
      ],
      "execution_count": 15,
      "outputs": [
        {
          "output_type": "execute_result",
          "data": {
            "text/plain": [
              "array(['Chris Wallace', 'Vice President Joe Biden',\n",
              "       'President Donald J. Trump', 'Chris Wallace:'], dtype=object)"
            ]
          },
          "metadata": {
            "tags": []
          },
          "execution_count": 15
        }
      ]
    },
    {
      "cell_type": "markdown",
      "metadata": {
        "id": "Qd3I37Hed-Rj"
      },
      "source": [
        "# Target Counts"
      ]
    },
    {
      "cell_type": "code",
      "metadata": {
        "id": "gxAc052ad-Rm"
      },
      "source": [
        "df['speaker'] = df['speaker'].apply(lambda x: x.replace(':', ''))"
      ],
      "execution_count": 16,
      "outputs": []
    },
    {
      "cell_type": "code",
      "metadata": {
        "id": "5WocpHPRd-Rx",
        "outputId": "b419afd3-0ca4-4323-bbde-c159c353bea2",
        "colab": {
          "base_uri": "https://localhost:8080/",
          "height": 87
        }
      },
      "source": [
        "instances = df['speaker'].value_counts()\n",
        "instances"
      ],
      "execution_count": 17,
      "outputs": [
        {
          "output_type": "execute_result",
          "data": {
            "text/plain": [
              "President Donald J. Trump    314\n",
              "Vice President Joe Biden     249\n",
              "Chris Wallace                226\n",
              "Name: speaker, dtype: int64"
            ]
          },
          "metadata": {
            "tags": []
          },
          "execution_count": 17
        }
      ]
    },
    {
      "cell_type": "code",
      "metadata": {
        "id": "YR3cxHLTNh5Z",
        "outputId": "fa95721b-bd76-4d05-a535-63aba5b60e72",
        "colab": {
          "base_uri": "https://localhost:8080/",
          "height": 384
        }
      },
      "source": [
        "#visualize the speakers using a bar graph\n",
        "instances.plot(kind='bar', color=['blue','green','brown']);"
      ],
      "execution_count": 18,
      "outputs": [
        {
          "output_type": "display_data",
          "data": {
            "image/png": "[encoded data removed]",
            "text/plain": [
              "<Figure size 432x288 with 1 Axes>"
            ]
          },
          "metadata": {
            "tags": [],
            "needs_background": "light"
          }
        }
      ]
    },
    {
      "cell_type": "markdown",
      "metadata": {
        "id": "I4v_-VEkJo3H"
      },
      "source": [
        "# Bench-Mark Model."
      ]
    },
    {
      "cell_type": "markdown",
      "metadata": {
        "id": "uFAHh0iZPids"
      },
      "source": [
        "## 1.1 Create the predictor variable Y\n",
        "\n",
        "This will be the first instance of the model. Here, we just use the original Data as it is withoug perfoming any sampling techniques. "
      ]
    },
    {
      "cell_type": "code",
      "metadata": {
        "id": "hzsTXUIbJgZ4"
      },
      "source": [
        "unique_speakers = list(df['speaker'].unique())"
      ],
      "execution_count": 19,
      "outputs": []
    },
    {
      "cell_type": "code",
      "metadata": {
        "id": "CT35UUbgSpYB"
      },
      "source": [
        "y = to_categorical(df['speaker'].apply(lambda x: unique_speakers.index(x)))"
      ],
      "execution_count": 20,
      "outputs": []
    },
    {
      "cell_type": "markdown",
      "metadata": {
        "id": "y2JKPB2VTAV7"
      },
      "source": [
        "## 1.2 Split to test train Split"
      ]
    },
    {
      "cell_type": "code",
      "metadata": {
        "id": "PJWNBzjdTDnj"
      },
      "source": [
        "train_x, test_x, train_y, test_y = train_test_split(df['text'], y, test_size=0.1)"
      ],
      "execution_count": 21,
      "outputs": []
    },
    {
      "cell_type": "markdown",
      "metadata": {
        "id": "7okwzaeCTWB1"
      },
      "source": [
        "## 1.3 Feature Engineering"
      ]
    },
    {
      "cell_type": "markdown",
      "metadata": {
        "id": "_AXyvHzMWKgp"
      },
      "source": [
        " Using TfidfVectorizer"
      ]
    },
    {
      "cell_type": "code",
      "metadata": {
        "id": "6-GnBMxUTZfh"
      },
      "source": [
        "tf = TfidfVectorizer(min_df=0.01,stop_words='english').fit(train_x)\n",
        "train_x = tf.transform(train_x).toarray()\n",
        "test_x = tf.transform(test_x).toarray()\n",
        "    "
      ],
      "execution_count": 22,
      "outputs": []
    },
    {
      "cell_type": "markdown",
      "metadata": {
        "id": "1eUE3hfbZCWH"
      },
      "source": [
        "## 1.5 Model Creation"
      ]
    },
    {
      "cell_type": "code",
      "metadata": {
        "id": "fKc_6D86ZA1K",
        "outputId": "5f92a07b-e339-42b8-98e2-d96003622f66",
        "colab": {
          "base_uri": "https://localhost:8080/",
          "height": 34
        }
      },
      "source": [
        "train_x.shape"
      ],
      "execution_count": 23,
      "outputs": [
        {
          "output_type": "execute_result",
          "data": {
            "text/plain": [
              "(710, 140)"
            ]
          },
          "metadata": {
            "tags": []
          },
          "execution_count": 23
        }
      ]
    },
    {
      "cell_type": "markdown",
      "metadata": {
        "id": "eN4KFPwUqUpE"
      },
      "source": [
        "Lets start by defining a Keras Helper model that will be used to do the Model Building."
      ]
    },
    {
      "cell_type": "code",
      "metadata": {
        "id": "O5czL0k0qLba"
      },
      "source": [
        "from keras.models import Sequential\n",
        "from keras.layers import Dense, Dropout\n",
        "from keras.layers.normalization import BatchNormalization\n",
        "\n",
        "def keras_model():\n",
        "    model = Sequential()\n",
        "    model.add(Dense(30, input_dim=train_x.shape[1], activation='relu'))\n",
        "    model.add(Dropout(0.5))\n",
        "    model.add(Dense(20, activation='relu'))\n",
        "    model.add(Dense(3, activation='softmax'))\n",
        "    model.compile(loss='categorical_crossentropy', optimizer='nadam', metrics=['accuracy'])\n",
        "    return model"
      ],
      "execution_count": 24,
      "outputs": []
    },
    {
      "cell_type": "code",
      "metadata": {
        "id": "8SZ56lL8Z79v",
        "outputId": "3ae9fba8-7a59-4336-8480-36318aad3643",
        "colab": {
          "base_uri": "https://localhost:8080/",
          "height": 212
        }
      },
      "source": [
        "model = keras_model()\n",
        "model.fit(train_x, train_y, batch_size=1, epochs=5, validation_split=0.1)"
      ],
      "execution_count": 25,
      "outputs": [
        {
          "output_type": "stream",
          "text": [
            "Epoch 1/5\n",
            "639/639 [==============================] - 1s 832us/step - loss: 1.0762 - accuracy: 0.4241 - val_loss: 1.0342 - val_accuracy: 0.5493\n",
            "Epoch 2/5\n",
            "639/639 [==============================] - 0s 679us/step - loss: 0.9272 - accuracy: 0.5540 - val_loss: 0.8166 - val_accuracy: 0.5915\n",
            "Epoch 3/5\n",
            "639/639 [==============================] - 0s 676us/step - loss: 0.8044 - accuracy: 0.6448 - val_loss: 0.7523 - val_accuracy: 0.6901\n",
            "Epoch 4/5\n",
            "639/639 [==============================] - 0s 677us/step - loss: 0.7110 - accuracy: 0.6776 - val_loss: 0.7583 - val_accuracy: 0.6479\n",
            "Epoch 5/5\n",
            "639/639 [==============================] - 0s 663us/step - loss: 0.6607 - accuracy: 0.7074 - val_loss: 0.7103 - val_accuracy: 0.7042\n"
          ],
          "name": "stdout"
        },
        {
          "output_type": "execute_result",
          "data": {
            "text/plain": [
              "<tensorflow.python.keras.callbacks.History at 0x7ff0043beeb8>"
            ]
          },
          "metadata": {
            "tags": []
          },
          "execution_count": 25
        }
      ]
    },
    {
      "cell_type": "code",
      "metadata": {
        "id": "TCPjfXL5efGF",
        "outputId": "5e740b31-9b22-49d6-99c0-d21338c58a48",
        "colab": {
          "base_uri": "https://localhost:8080/",
          "height": 87
        }
      },
      "source": [
        "preds = model.predict(test_x).argmax(axis=1)\n",
        "preds"
      ],
      "execution_count": 26,
      "outputs": [
        {
          "output_type": "execute_result",
          "data": {
            "text/plain": [
              "array([2, 2, 2, 2, 0, 1, 0, 2, 2, 2, 2, 1, 0, 2, 2, 2, 1, 2, 0, 2, 2, 2,\n",
              "       2, 2, 0, 1, 2, 0, 2, 1, 2, 2, 1, 2, 2, 2, 2, 2, 1, 0, 0, 0, 0, 0,\n",
              "       2, 2, 2, 1, 2, 2, 2, 2, 2, 1, 2, 1, 2, 2, 2, 0, 0, 1, 2, 2, 0, 0,\n",
              "       1, 2, 0, 2, 2, 0, 0, 0, 1, 1, 2, 2, 0])"
            ]
          },
          "metadata": {
            "tags": []
          },
          "execution_count": 26
        }
      ]
    },
    {
      "cell_type": "code",
      "metadata": {
        "id": "AK9vlHgygE3B",
        "outputId": "a9df9245-5df8-41b0-f008-5de6732c8b18",
        "colab": {
          "base_uri": "https://localhost:8080/",
          "height": 34
        }
      },
      "source": [
        "accuracy_score(test_y.argmax(axis=1), preds)"
      ],
      "execution_count": 27,
      "outputs": [
        {
          "output_type": "execute_result",
          "data": {
            "text/plain": [
              "0.7215189873417721"
            ]
          },
          "metadata": {
            "tags": []
          },
          "execution_count": 27
        }
      ]
    },
    {
      "cell_type": "code",
      "metadata": {
        "id": "OwINR2ZugX8W",
        "outputId": "9bf13147-1176-45e4-cada-a3ed5001c53f",
        "colab": {
          "base_uri": "https://localhost:8080/",
          "height": 34
        }
      },
      "source": [
        "f1_score(test_y.argmax(axis=1), preds, average='micro')"
      ],
      "execution_count": 28,
      "outputs": [
        {
          "output_type": "execute_result",
          "data": {
            "text/plain": [
              "0.7215189873417721"
            ]
          },
          "metadata": {
            "tags": []
          },
          "execution_count": 28
        }
      ]
    },
    {
      "cell_type": "code",
      "metadata": {
        "id": "aI1wV7m4gavM"
      },
      "source": [
        "cm = pd.DataFrame(confusion_matrix(test_y.argmax(axis=1), preds), columns = unique_speakers, index= unique_speakers)\n",
        "cm.columns.name = \"Predicted\"\n",
        "cm.index.name = \"Actual\""
      ],
      "execution_count": 29,
      "outputs": []
    },
    {
      "cell_type": "code",
      "metadata": {
        "id": "GbSb55BLgh6Y",
        "outputId": "7b7678da-d768-4d5a-d803-832b476e73b9",
        "colab": {
          "base_uri": "https://localhost:8080/",
          "height": 167
        }
      },
      "source": [
        "cm"
      ],
      "execution_count": 30,
      "outputs": [
        {
          "output_type": "execute_result",
          "data": {
            "text/html": [
              "<div>\n",
              "<style scoped>\n",
              "    .dataframe tbody tr th:only-of-type {\n",
              "        vertical-align: middle;\n",
              "    }\n",
              "\n",
              "    .dataframe tbody tr th {\n",
              "        vertical-align: top;\n",
              "    }\n",
              "\n",
              "    .dataframe thead th {\n",
              "        text-align: right;\n",
              "    }\n",
              "</style>\n",
              "<table border=\"1\" class=\"dataframe\">\n",
              "  <thead>\n",
              "    <tr style=\"text-align: right;\">\n",
              "      <th>Predicted</th>\n",
              "      <th>Chris Wallace</th>\n",
              "      <th>Vice President Joe Biden</th>\n",
              "      <th>President Donald J. Trump</th>\n",
              "    </tr>\n",
              "    <tr>\n",
              "      <th>Actual</th>\n",
              "      <th></th>\n",
              "      <th></th>\n",
              "      <th></th>\n",
              "    </tr>\n",
              "  </thead>\n",
              "  <tbody>\n",
              "    <tr>\n",
              "      <th>Chris Wallace</th>\n",
              "      <td>16</td>\n",
              "      <td>0</td>\n",
              "      <td>6</td>\n",
              "    </tr>\n",
              "    <tr>\n",
              "      <th>Vice President Joe Biden</th>\n",
              "      <td>3</td>\n",
              "      <td>12</td>\n",
              "      <td>10</td>\n",
              "    </tr>\n",
              "    <tr>\n",
              "      <th>President Donald J. Trump</th>\n",
              "      <td>1</td>\n",
              "      <td>2</td>\n",
              "      <td>29</td>\n",
              "    </tr>\n",
              "  </tbody>\n",
              "</table>\n",
              "</div>"
            ],
            "text/plain": [
              "Predicted                  Chris Wallace  ...  President Donald J. Trump\n",
              "Actual                                    ...                           \n",
              "Chris Wallace                         16  ...                          6\n",
              "Vice President Joe Biden               3  ...                         10\n",
              "President Donald J. Trump              1  ...                         29\n",
              "\n",
              "[3 rows x 3 columns]"
            ]
          },
          "metadata": {
            "tags": []
          },
          "execution_count": 30
        }
      ]
    },
    {
      "cell_type": "markdown",
      "metadata": {
        "id": "5Q1QwPKyd-R8"
      },
      "source": [
        "# Down-Sampled Model\n",
        "\n"
      ]
    },
    {
      "cell_type": "markdown",
      "metadata": {
        "id": "aopL70P7T2t6"
      },
      "source": [
        "## 1.1 Downsample the model manually"
      ]
    },
    {
      "cell_type": "code",
      "metadata": {
        "id": "RQbkL6vAd-R-"
      },
      "source": [
        "cleaned_dfs = []\n",
        "\n",
        "for val in df['speaker'].unique():\n",
        "    cleaned_dfs.append(df[df['speaker']==val].sample(226))\n",
        "\n",
        "sampled_df = pd.concat(cleaned_dfs).reset_index(drop=True)"
      ],
      "execution_count": 31,
      "outputs": []
    },
    {
      "cell_type": "markdown",
      "metadata": {
        "id": "78O0Tt_iT9E_"
      },
      "source": [
        "## 1.2 Create the predictor variable Y"
      ]
    },
    {
      "cell_type": "code",
      "metadata": {
        "id": "krzffg5ud-SM",
        "outputId": "efd5017b-3f47-49a9-a00f-51cc8672bb2e",
        "colab": {
          "base_uri": "https://localhost:8080/",
          "height": 87
        }
      },
      "source": [
        "sampled_df['speaker'].value_counts()"
      ],
      "execution_count": 32,
      "outputs": [
        {
          "output_type": "execute_result",
          "data": {
            "text/plain": [
              "President Donald J. Trump    226\n",
              "Vice President Joe Biden     226\n",
              "Chris Wallace                226\n",
              "Name: speaker, dtype: int64"
            ]
          },
          "metadata": {
            "tags": []
          },
          "execution_count": 32
        }
      ]
    },
    {
      "cell_type": "code",
      "metadata": {
        "id": "hS2a2c9wd-SX"
      },
      "source": [
        "unique_speakers = list(sampled_df['speaker'].unique())"
      ],
      "execution_count": 33,
      "outputs": []
    },
    {
      "cell_type": "code",
      "metadata": {
        "id": "tZEAWzNZd-Sh"
      },
      "source": [
        "y = to_categorical(sampled_df['speaker'].apply(lambda x : unique_speakers.index(x)))"
      ],
      "execution_count": 34,
      "outputs": []
    },
    {
      "cell_type": "markdown",
      "metadata": {
        "id": "4rLdio2Yd-So"
      },
      "source": [
        "## 1.3 Train Test Split"
      ]
    },
    {
      "cell_type": "code",
      "metadata": {
        "id": "usAT6GHSd-Sp"
      },
      "source": [
        "train_x, test_x, train_y, test_y = train_test_split(sampled_df['text'], y, test_size=0.1)"
      ],
      "execution_count": 35,
      "outputs": []
    },
    {
      "cell_type": "markdown",
      "metadata": {
        "id": "76EfyB65d-Sz"
      },
      "source": [
        "## 1.4 Feature Engineering"
      ]
    },
    {
      "cell_type": "markdown",
      "metadata": {
        "id": "KxVIiJ-BRdMc"
      },
      "source": [
        "Using TfidfVectorizer"
      ]
    },
    {
      "cell_type": "code",
      "metadata": {
        "id": "AaI6Vumud-S0"
      },
      "source": [
        "tf = TfidfVectorizer(min_df=0.01, stop_words='english').fit(train_x)\n",
        "train_x = tf.transform(train_x).toarray()\n",
        "test_x = tf.transform(test_x).toarray()"
      ],
      "execution_count": 36,
      "outputs": []
    },
    {
      "cell_type": "markdown",
      "metadata": {
        "id": "pdHgTQcod-TL"
      },
      "source": [
        "## 1.5 Model Creation"
      ]
    },
    {
      "cell_type": "markdown",
      "metadata": {
        "id": "Bf7VtcInW22_"
      },
      "source": [
        "#### Using data from tfidf"
      ]
    },
    {
      "cell_type": "code",
      "metadata": {
        "id": "sEeIIaUId-TP",
        "outputId": "e419a452-2a48-4afd-c35f-a0fea6ed0208",
        "colab": {
          "base_uri": "https://localhost:8080/",
          "height": 34
        }
      },
      "source": [
        "train_x.shape"
      ],
      "execution_count": 37,
      "outputs": [
        {
          "output_type": "execute_result",
          "data": {
            "text/plain": [
              "(610, 159)"
            ]
          },
          "metadata": {
            "tags": []
          },
          "execution_count": 37
        }
      ]
    },
    {
      "cell_type": "code",
      "metadata": {
        "id": "UT8f8Q5od-T7",
        "outputId": "fefd15c3-2b09-4d8d-c375-e8996af1419d",
        "colab": {
          "base_uri": "https://localhost:8080/",
          "height": 212
        }
      },
      "source": [
        "model = keras_model()\n",
        "model.fit(train_x, train_y, batch_size=1, epochs=5, validation_split=0.1, verbose=1)"
      ],
      "execution_count": 38,
      "outputs": [
        {
          "output_type": "stream",
          "text": [
            "Epoch 1/5\n",
            "549/549 [==============================] - 0s 826us/step - loss: 1.0857 - accuracy: 0.3971 - val_loss: 1.0236 - val_accuracy: 0.5410\n",
            "Epoch 2/5\n",
            "549/549 [==============================] - 0s 680us/step - loss: 0.9610 - accuracy: 0.5774 - val_loss: 0.8084 - val_accuracy: 0.6557\n",
            "Epoch 3/5\n",
            "549/549 [==============================] - 0s 691us/step - loss: 0.8072 - accuracy: 0.6339 - val_loss: 0.6817 - val_accuracy: 0.6885\n",
            "Epoch 4/5\n",
            "549/549 [==============================] - 0s 700us/step - loss: 0.7075 - accuracy: 0.7031 - val_loss: 0.6355 - val_accuracy: 0.7377\n",
            "Epoch 5/5\n",
            "549/549 [==============================] - 0s 738us/step - loss: 0.6430 - accuracy: 0.7122 - val_loss: 0.5950 - val_accuracy: 0.7377\n"
          ],
          "name": "stdout"
        },
        {
          "output_type": "execute_result",
          "data": {
            "text/plain": [
              "<tensorflow.python.keras.callbacks.History at 0x7ff001414fd0>"
            ]
          },
          "metadata": {
            "tags": []
          },
          "execution_count": 38
        }
      ]
    },
    {
      "cell_type": "code",
      "metadata": {
        "id": "PAn38co8d-UI"
      },
      "source": [
        "preds = model.predict(test_x).argmax(axis=1)"
      ],
      "execution_count": 39,
      "outputs": []
    },
    {
      "cell_type": "code",
      "metadata": {
        "id": "lru4KdBOd-UV",
        "outputId": "8b4011e3-d48d-4210-b806-b467deab8495",
        "colab": {
          "base_uri": "https://localhost:8080/",
          "height": 87
        }
      },
      "source": [
        "preds"
      ],
      "execution_count": 40,
      "outputs": [
        {
          "output_type": "execute_result",
          "data": {
            "text/plain": [
              "array([2, 1, 2, 2, 1, 1, 2, 2, 1, 2, 1, 0, 0, 0, 2, 1, 0, 0, 0, 2, 0, 0,\n",
              "       1, 1, 2, 0, 1, 0, 0, 0, 2, 2, 0, 0, 1, 2, 0, 2, 2, 2, 0, 2, 0, 1,\n",
              "       1, 0, 0, 0, 0, 2, 2, 2, 1, 2, 0, 1, 1, 0, 0, 2, 2, 2, 2, 0, 0, 2,\n",
              "       2, 1])"
            ]
          },
          "metadata": {
            "tags": []
          },
          "execution_count": 40
        }
      ]
    },
    {
      "cell_type": "markdown",
      "metadata": {
        "id": "jImdoUwkd-Uh"
      },
      "source": [
        "# Test Scores"
      ]
    },
    {
      "cell_type": "code",
      "metadata": {
        "id": "7Lr5IXKPd-Uj",
        "outputId": "6975cb51-f18c-4c91-d268-a33f51758291",
        "colab": {
          "base_uri": "https://localhost:8080/",
          "height": 34
        }
      },
      "source": [
        "accuracy_score(test_y.argmax(axis=1), preds)"
      ],
      "execution_count": 41,
      "outputs": [
        {
          "output_type": "execute_result",
          "data": {
            "text/plain": [
              "0.7205882352941176"
            ]
          },
          "metadata": {
            "tags": []
          },
          "execution_count": 41
        }
      ]
    },
    {
      "cell_type": "code",
      "metadata": {
        "id": "oH-rhj8ed-Uv",
        "outputId": "6a8ca665-71e8-484b-fa57-e6d656bc365e",
        "colab": {
          "base_uri": "https://localhost:8080/",
          "height": 34
        }
      },
      "source": [
        "f1_score(test_y.argmax(axis=1), preds, average='micro')"
      ],
      "execution_count": 42,
      "outputs": [
        {
          "output_type": "execute_result",
          "data": {
            "text/plain": [
              "0.7205882352941176"
            ]
          },
          "metadata": {
            "tags": []
          },
          "execution_count": 42
        }
      ]
    },
    {
      "cell_type": "code",
      "metadata": {
        "id": "fjYqPJw2d-U5"
      },
      "source": [
        "cm = pd.DataFrame(confusion_matrix(test_y.argmax(axis=1), preds), columns = unique_speakers, index= unique_speakers)\n",
        "cm.columns.name = \"Predicted\"\n",
        "cm.index.name = \"Actual\""
      ],
      "execution_count": 43,
      "outputs": []
    },
    {
      "cell_type": "code",
      "metadata": {
        "id": "RF4TezVFd-VB",
        "outputId": "4a740a7d-56ae-4898-cee2-7321dd6b3baf",
        "colab": {
          "base_uri": "https://localhost:8080/",
          "height": 167
        }
      },
      "source": [
        "cm"
      ],
      "execution_count": 44,
      "outputs": [
        {
          "output_type": "execute_result",
          "data": {
            "text/html": [
              "<div>\n",
              "<style scoped>\n",
              "    .dataframe tbody tr th:only-of-type {\n",
              "        vertical-align: middle;\n",
              "    }\n",
              "\n",
              "    .dataframe tbody tr th {\n",
              "        vertical-align: top;\n",
              "    }\n",
              "\n",
              "    .dataframe thead th {\n",
              "        text-align: right;\n",
              "    }\n",
              "</style>\n",
              "<table border=\"1\" class=\"dataframe\">\n",
              "  <thead>\n",
              "    <tr style=\"text-align: right;\">\n",
              "      <th>Predicted</th>\n",
              "      <th>Chris Wallace</th>\n",
              "      <th>Vice President Joe Biden</th>\n",
              "      <th>President Donald J. Trump</th>\n",
              "    </tr>\n",
              "    <tr>\n",
              "      <th>Actual</th>\n",
              "      <th></th>\n",
              "      <th></th>\n",
              "      <th></th>\n",
              "    </tr>\n",
              "  </thead>\n",
              "  <tbody>\n",
              "    <tr>\n",
              "      <th>Chris Wallace</th>\n",
              "      <td>23</td>\n",
              "      <td>1</td>\n",
              "      <td>4</td>\n",
              "    </tr>\n",
              "    <tr>\n",
              "      <th>Vice President Joe Biden</th>\n",
              "      <td>2</td>\n",
              "      <td>12</td>\n",
              "      <td>8</td>\n",
              "    </tr>\n",
              "    <tr>\n",
              "      <th>President Donald J. Trump</th>\n",
              "      <td>1</td>\n",
              "      <td>3</td>\n",
              "      <td>14</td>\n",
              "    </tr>\n",
              "  </tbody>\n",
              "</table>\n",
              "</div>"
            ],
            "text/plain": [
              "Predicted                  Chris Wallace  ...  President Donald J. Trump\n",
              "Actual                                    ...                           \n",
              "Chris Wallace                         23  ...                          4\n",
              "Vice President Joe Biden               2  ...                          8\n",
              "President Donald J. Trump              1  ...                         14\n",
              "\n",
              "[3 rows x 3 columns]"
            ]
          },
          "metadata": {
            "tags": []
          },
          "execution_count": 44
        }
      ]
    },
    {
      "cell_type": "markdown",
      "metadata": {
        "id": "YVK0XSYKpsKv"
      },
      "source": [
        "Looks like the downsampled model  outperforms the bench mark model"
      ]
    }
  ]
}